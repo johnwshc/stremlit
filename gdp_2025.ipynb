{
 "cells": [
  {
   "cell_type": "code",
   "id": "vblA",
   "metadata": {
    "ExecuteTime": {
     "end_time": "2025-10-14T18:54:04.433898Z",
     "start_time": "2025-10-14T18:54:02.852364Z"
    }
   },
   "source": [
    "# data classes\n",
    "import pandas as pd\n",
    "\n",
    "from analz.utils.wv_data_2025_utils import WVGDP_2025, DATA2025, WvEmp, WvSummary\n",
    "from analz.utils.wv_data_utils import WV_GDP, RealGDP, EmployByIndustry as EBI, CompGDP as Comp, CurrGDP, GDPMgr, LCX, IndDescription as ID\n",
    "from analz.utils.wv_data_utils import TaxesGDP as Tax, TaxesS as Taxs, OppsGDP as Opps, SubsGDP as Subs\n",
    "from analz.utils.gdp_linked_list import Node, DLL\n",
    "from analz.utils.GDPTree import TNode, TNTree, TupsDict\n",
    "from analz.utils.WV2022_graphs import OppSurp, Utils, DCLs, Tups, WBars, TaxSubsBars as TSBars\n",
    "\n",
    "# types\n",
    "from collections import namedtuple\n",
    "import datetime\n",
    "\n",
    "# graphics\n",
    "\n",
    "import plotly.express as px\n",
    "import plotly.figure_factory as ff\n",
    "from dash import Dash, dcc, html, Input, Output\n",
    "import seaborn.objects as so\n",
    "import seaborn as sns\n",
    "import matplotlib.pyplot as plt\n",
    "import plotly.graph_objects as go\n",
    "\n",
    "# custom global data\n",
    "\n",
    "GIndex = namedtuple('GIndex', ['id', 'level'])\n",
    "concord_file = \"json/gdp_emp_desc_index_concordance.txt\"\n",
    "pd.set_option(\"mode.copy_on_write\", True)"
   ],
   "outputs": [
    {
     "name": "stderr",
     "output_type": "stream",
     "text": [
      "D:\\python_apps\\marimo1\\.venv\\Lib\\site-packages\\openpyxl\\styles\\stylesheet.py:237: UserWarning: Workbook contains no default style, apply openpyxl's default\n",
      "  warn(\"Workbook contains no default style, apply openpyxl's default\")\n"
     ]
    },
    {
     "name": "stdout",
     "output_type": "stream",
     "text": [
      "len of longs: 28\n"
     ]
    }
   ],
   "execution_count": 9
  },
  {
   "cell_type": "code",
   "id": "bkHC",
   "metadata": {
    "ExecuteTime": {
     "end_time": "2025-10-14T18:54:39.644578Z",
     "start_time": "2025-10-14T18:54:39.613076Z"
    }
   },
   "source": [
    "opps = OppSurp()\n",
    "\n",
    "\n",
    "wbars = WBars()\n",
    "curr_df = wbars.curr_df  #  23 rows\n",
    "real_gdp = wbars.rdf\n",
    "real_gdp_taxable = wbars.rdf_taxable\n",
    "tsbars = TSBars()"
   ],
   "outputs": [],
   "execution_count": 10
  },
  {
   "cell_type": "markdown",
   "id": "lEQa",
   "metadata": {},
   "source": [
    "## West Virginia Political Economy\n",
    "### An Introduction, with charts!\n",
    "\n",
    "The classic \"Economists\" the late 18th through the 19th century strove to raise \"Economics\" to a more scientific discipline from its informal beginnings. These \"natural philosophers\", inspired by Isaac Newton and other early giants, saw their subject-matter not only as emerging market mechanics and dynamics, fascinating as they are, but as an historical, political and social science. This urgent interest in new economies and their \"laws\" is not surprising when one considers the immense revolutionary impact the new \"capitalist\", economic forms and actvities were having on feudal and ancient social relations.\n",
    "\n",
    "John Stuart Mill, Adam Smith, David Recardo, and Karl Marx all wer motivated by deep concerns with the *relationships* between capitalist economic structures and society at large.\n",
    "\n",
    "Partnerships, limited liability firms, joint stock enterprises, companies, corporations, banks, paper and metal forms of money and property --- require supply chains, infrastuctures, and  available workforces, where new social and public institutions and relations are required.\n",
    "\n",
    "Social classes wwere formed and transformed by the new divisions of labor and wealth. Land began to recede as the chief form of wealth. Further, the \"republican\" and \"democratic\" cultural and political fervors unleashed by the breakdown of feudal relations exploded across the world upending politics, religion (an integral part of the feudal states) and political institutions everywhere. Economics was born as \"political economy\".\n",
    "\n",
    "Driven by the mounting evidence that US monopoly capitalist institutions are looking as twisted, broken and unfixable (by their own efforts) as the ancient feudal and enslaved ones, \"political economy\" is being reborn.\n",
    "\n",
    "This review focuses on West Virginia *production*, or,  or the **supply side** of the supply/demand divide more than the **consumer** side of economics. As such, it gives a more \"structural\" view of a state's economy,  and outlines the available paths toward any political change that contemplates significant advances in standards of living, including abolishing poverty.\n",
    "\n",
    "\n",
    "The demand side of economics tends to dominate modern economics news. This not unreasonable considering that consumer purchases constitute the biggest share of the US economy, and the amount of available consumer data is vast, so vast as to become \"data lakes\" or \"data oceans\" a womb of sorts pregnant with generative AI, a consumer -- and producer.\n",
    "\n",
    "However, over-emphasizing the consumer side can obscure or undervalue the over riding class and other social, legal and political consequences of shifts in the mode and means of production. The supply chains of commodities and services now thread the entire world. For example, [Bloomberg reports](https://www.bloomberg.com/news/articles/2010-09-09/the-man-who-makes-your-iphone?sref=woWS9Szx) a million workers in over 40 countries are part of the production of an iPhone now.\n",
    "\n",
    "\"DEMAND\" asks different questions from those that arise if the starting point is the \"capacity to PRODUCE\" more useful products or services than one needs for themselves. From a Demand, or Consumer standpoint, primitive, even pre-capitalist markets and advanced capitalist market exchanges may share some similar *appearances*. But from a production, supply side they are universes apart.\n",
    "   \n",
    "\n",
    "### The Data Components of West Virginia Production -- and Gross Domestic Product\n",
    "\n",
    "The components of [regional production and income tracked by the Bureau of Economic Analysis](https://www.bea.gov/itable/regional-gdp-and-personal-income) include:\n",
    "\n",
    "* the classification of the different branches of the economy, including public, private, production, and service dimensions.\n",
    "* sufficient data\n",
    "* the returns to capital (profit, rent, interest)\n",
    "* the returns to compensation (wages, salaries, benefits)\n",
    "* what is taxable\n",
    "* unlawful and lawful trade -- not captured in BEA tables.\n",
    "* what is subsidized\n",
    "* degrees of market power (including monopoly),\n",
    "* A special \"supply-side\" issue is the supply and reproduction of the human wage and salary earning workforce.\n",
    "\n",
    "Production economic relationships decisively shape politics. One form of property consideration or another dominates legislative, executive and judicial agendas and dockets.\n",
    "\n",
    "Industrial policy guides both taxation and subsidies for industry, and a very large legal and  employment framework to accommodate the division and redivision of work and capital as economic development requires.\n",
    "\n",
    "## West Virginia Production\n",
    "\n",
    "West Virginia is a poor state, judged by the incomes of its people. We are near the bottom rank of US states in [personal income](https://en.wikipedia.org/wiki/List_of_U.S._states_and_territories_by_income) and [educational performance](https://en.wikipedia.org/wiki/List_of_U.S._states_and_territories_by_educational_attainment).  Our overall wealth and [gross domestic product](https://en.wikipedia.org/wiki/List_of_U.S._states_and_territories_by_GDP) are somewhat higher, largely due to energy and natural resource sectors. Some sectors of the WV economy are very productive and profitable. Yet, West Virginia GDP per capita sits near the bottom rank too, even among other Appalachian states.\n",
    "\n",
    "Nothing escapes history as long as there is memory -- and context is everything!\n",
    "\n",
    "Energy has dominated more than a century of West Virginia economic and political history, despite its failure  to enrich or reward its people in proportion to the treasures arising from its natural resources. Whether one views those treasures as a curse, or a blessing, is a prejudice or privilege embedded in nearly every challenge before state, county and municipal levels of government.\n",
    "\n",
    "\n",
    "### A Five year summary of Real GDP in West Virginia, 2027-2022\n",
    "\n",
    "Lets begin with a summary look at real and current Gross Domestic Product for West Virginia from 2017 - 2022. 2022 is the last year for which there is data for all sectors of the WV economy.\n",
    "\n",
    "Notes on the statistics:\n",
    "\n",
    "-The [Bureau of Economic Analysis (BEA)](https://www.bea.gov/data/gdp/gdp-state), under the US Commerce department,  is responsible for compliling national income and product reports. The production side data analysis is sourced through both private and public surveys, plus regular  state and local economic reports.\n",
    "\n",
    "-Two components of these reports are ESTIMATES of both *employment and compensation* numbers for each industrial classification. [The Burequ of Labor Statistics (BLS)](https://www.bls.gov/data/#employment) collects most data related to compensation and OCCUPATIONS, not by industrial classification.  Consequently, the compensation and employment data by INDUSTRY is partially derived.\n",
    "\n",
    "The estimated breakdowns by industry give a structural view of the state's economy, AND its workforce. Further it adds a sense and degree of proportio, and realistic foundation, to the likely impact of necessary structural social and economic reforms -- or the failure to achieve them. Some are more important and strategic than others. Indeed: mandatory in the case of energy, \n",
    "\n",
    "need for reforms and their disruptive or constructiveThis includes: what is taxable and what is not, and what is creating weath -- that CAN be taxed -- and what is not, what kinds of development and industrial policies provide growth, raise incomes, AND, leave no one behind in the adjustments (re-divisions of labor) to meet new technologies and new environments."
   ]
  },
  {
   "cell_type": "markdown",
   "id": "PKri",
   "metadata": {},
   "source": [
    "## GDP WV Summary"
   ]
  },
  {
   "cell_type": "code",
   "execution_count": 5,
   "id": "Xref",
   "metadata": {},
   "outputs": [
    {
     "data": {
      "application/vnd.plotly.v1+json": {
       "config": {
        "plotlyServerURL": "https://plot.ly"
       },
       "data": [
        {
         "hovertemplate": "variable=Real GDP<br>Years=%{x}<br>millions of dollars=%{y}<extra></extra>",
         "legendgroup": "Real GDP",
         "line": {
          "color": "#636efa",
          "dash": "solid"
         },
         "marker": {
          "symbol": "circle"
         },
         "mode": "lines",
         "name": "Real GDP",
         "orientation": "v",
         "showlegend": true,
         "type": "scatter",
         "x": [
          "2017",
          "2018",
          "2019",
          "2020",
          "2021",
          "2022"
         ],
         "xaxis": "x",
         "y": [
          75172.4,
          77406.5,
          77162.2,
          74553.8,
          75765.1,
          77188
         ],
         "yaxis": "y"
        },
        {
         "hovertemplate": "variable=Curr GDP<br>Years=%{x}<br>millions of dollars=%{y}<extra></extra>",
         "legendgroup": "Curr GDP",
         "line": {
          "color": "#EF553B",
          "dash": "solid"
         },
         "marker": {
          "symbol": "circle"
         },
         "mode": "lines",
         "name": "Curr GDP",
         "orientation": "v",
         "showlegend": true,
         "type": "scatter",
         "x": [
          "2017",
          "2018",
          "2019",
          "2020",
          "2021",
          "2022"
         ],
         "xaxis": "x",
         "y": [
          75172.4,
          79794.3,
          80242.4,
          77430.9,
          86550.5,
          98290
         ],
         "yaxis": "y"
        }
       ],
       "layout": {
        "legend": {
         "title": {
          "text": "variable"
         },
         "tracegroupgap": 0
        },
        "template": {
         "data": {
          "bar": [
           {
            "error_x": {
             "color": "#2a3f5f"
            },
            "error_y": {
             "color": "#2a3f5f"
            },
            "marker": {
             "line": {
              "color": "#E5ECF6",
              "width": 0.5
             },
             "pattern": {
              "fillmode": "overlay",
              "size": 10,
              "solidity": 0.2
             }
            },
            "type": "bar"
           }
          ],
          "barpolar": [
           {
            "marker": {
             "line": {
              "color": "#E5ECF6",
              "width": 0.5
             },
             "pattern": {
              "fillmode": "overlay",
              "size": 10,
              "solidity": 0.2
             }
            },
            "type": "barpolar"
           }
          ],
          "carpet": [
           {
            "aaxis": {
             "endlinecolor": "#2a3f5f",
             "gridcolor": "white",
             "linecolor": "white",
             "minorgridcolor": "white",
             "startlinecolor": "#2a3f5f"
            },
            "baxis": {
             "endlinecolor": "#2a3f5f",
             "gridcolor": "white",
             "linecolor": "white",
             "minorgridcolor": "white",
             "startlinecolor": "#2a3f5f"
            },
            "type": "carpet"
           }
          ],
          "choropleth": [
           {
            "colorbar": {
             "outlinewidth": 0,
             "ticks": ""
            },
            "type": "choropleth"
           }
          ],
          "contour": [
           {
            "colorbar": {
             "outlinewidth": 0,
             "ticks": ""
            },
            "colorscale": [
             [
              0,
              "#0d0887"
             ],
             [
              0.1111111111111111,
              "#46039f"
             ],
             [
              0.2222222222222222,
              "#7201a8"
             ],
             [
              0.3333333333333333,
              "#9c179e"
             ],
             [
              0.4444444444444444,
              "#bd3786"
             ],
             [
              0.5555555555555556,
              "#d8576b"
             ],
             [
              0.6666666666666666,
              "#ed7953"
             ],
             [
              0.7777777777777778,
              "#fb9f3a"
             ],
             [
              0.8888888888888888,
              "#fdca26"
             ],
             [
              1,
              "#f0f921"
             ]
            ],
            "type": "contour"
           }
          ],
          "contourcarpet": [
           {
            "colorbar": {
             "outlinewidth": 0,
             "ticks": ""
            },
            "type": "contourcarpet"
           }
          ],
          "heatmap": [
           {
            "colorbar": {
             "outlinewidth": 0,
             "ticks": ""
            },
            "colorscale": [
             [
              0,
              "#0d0887"
             ],
             [
              0.1111111111111111,
              "#46039f"
             ],
             [
              0.2222222222222222,
              "#7201a8"
             ],
             [
              0.3333333333333333,
              "#9c179e"
             ],
             [
              0.4444444444444444,
              "#bd3786"
             ],
             [
              0.5555555555555556,
              "#d8576b"
             ],
             [
              0.6666666666666666,
              "#ed7953"
             ],
             [
              0.7777777777777778,
              "#fb9f3a"
             ],
             [
              0.8888888888888888,
              "#fdca26"
             ],
             [
              1,
              "#f0f921"
             ]
            ],
            "type": "heatmap"
           }
          ],
          "histogram": [
           {
            "marker": {
             "pattern": {
              "fillmode": "overlay",
              "size": 10,
              "solidity": 0.2
             }
            },
            "type": "histogram"
           }
          ],
          "histogram2d": [
           {
            "colorbar": {
             "outlinewidth": 0,
             "ticks": ""
            },
            "colorscale": [
             [
              0,
              "#0d0887"
             ],
             [
              0.1111111111111111,
              "#46039f"
             ],
             [
              0.2222222222222222,
              "#7201a8"
             ],
             [
              0.3333333333333333,
              "#9c179e"
             ],
             [
              0.4444444444444444,
              "#bd3786"
             ],
             [
              0.5555555555555556,
              "#d8576b"
             ],
             [
              0.6666666666666666,
              "#ed7953"
             ],
             [
              0.7777777777777778,
              "#fb9f3a"
             ],
             [
              0.8888888888888888,
              "#fdca26"
             ],
             [
              1,
              "#f0f921"
             ]
            ],
            "type": "histogram2d"
           }
          ],
          "histogram2dcontour": [
           {
            "colorbar": {
             "outlinewidth": 0,
             "ticks": ""
            },
            "colorscale": [
             [
              0,
              "#0d0887"
             ],
             [
              0.1111111111111111,
              "#46039f"
             ],
             [
              0.2222222222222222,
              "#7201a8"
             ],
             [
              0.3333333333333333,
              "#9c179e"
             ],
             [
              0.4444444444444444,
              "#bd3786"
             ],
             [
              0.5555555555555556,
              "#d8576b"
             ],
             [
              0.6666666666666666,
              "#ed7953"
             ],
             [
              0.7777777777777778,
              "#fb9f3a"
             ],
             [
              0.8888888888888888,
              "#fdca26"
             ],
             [
              1,
              "#f0f921"
             ]
            ],
            "type": "histogram2dcontour"
           }
          ],
          "mesh3d": [
           {
            "colorbar": {
             "outlinewidth": 0,
             "ticks": ""
            },
            "type": "mesh3d"
           }
          ],
          "parcoords": [
           {
            "line": {
             "colorbar": {
              "outlinewidth": 0,
              "ticks": ""
             }
            },
            "type": "parcoords"
           }
          ],
          "pie": [
           {
            "automargin": true,
            "type": "pie"
           }
          ],
          "scatter": [
           {
            "fillpattern": {
             "fillmode": "overlay",
             "size": 10,
             "solidity": 0.2
            },
            "type": "scatter"
           }
          ],
          "scatter3d": [
           {
            "line": {
             "colorbar": {
              "outlinewidth": 0,
              "ticks": ""
             }
            },
            "marker": {
             "colorbar": {
              "outlinewidth": 0,
              "ticks": ""
             }
            },
            "type": "scatter3d"
           }
          ],
          "scattercarpet": [
           {
            "marker": {
             "colorbar": {
              "outlinewidth": 0,
              "ticks": ""
             }
            },
            "type": "scattercarpet"
           }
          ],
          "scattergeo": [
           {
            "marker": {
             "colorbar": {
              "outlinewidth": 0,
              "ticks": ""
             }
            },
            "type": "scattergeo"
           }
          ],
          "scattergl": [
           {
            "marker": {
             "colorbar": {
              "outlinewidth": 0,
              "ticks": ""
             }
            },
            "type": "scattergl"
           }
          ],
          "scattermap": [
           {
            "marker": {
             "colorbar": {
              "outlinewidth": 0,
              "ticks": ""
             }
            },
            "type": "scattermap"
           }
          ],
          "scattermapbox": [
           {
            "marker": {
             "colorbar": {
              "outlinewidth": 0,
              "ticks": ""
             }
            },
            "type": "scattermapbox"
           }
          ],
          "scatterpolar": [
           {
            "marker": {
             "colorbar": {
              "outlinewidth": 0,
              "ticks": ""
             }
            },
            "type": "scatterpolar"
           }
          ],
          "scatterpolargl": [
           {
            "marker": {
             "colorbar": {
              "outlinewidth": 0,
              "ticks": ""
             }
            },
            "type": "scatterpolargl"
           }
          ],
          "scatterternary": [
           {
            "marker": {
             "colorbar": {
              "outlinewidth": 0,
              "ticks": ""
             }
            },
            "type": "scatterternary"
           }
          ],
          "surface": [
           {
            "colorbar": {
             "outlinewidth": 0,
             "ticks": ""
            },
            "colorscale": [
             [
              0,
              "#0d0887"
             ],
             [
              0.1111111111111111,
              "#46039f"
             ],
             [
              0.2222222222222222,
              "#7201a8"
             ],
             [
              0.3333333333333333,
              "#9c179e"
             ],
             [
              0.4444444444444444,
              "#bd3786"
             ],
             [
              0.5555555555555556,
              "#d8576b"
             ],
             [
              0.6666666666666666,
              "#ed7953"
             ],
             [
              0.7777777777777778,
              "#fb9f3a"
             ],
             [
              0.8888888888888888,
              "#fdca26"
             ],
             [
              1,
              "#f0f921"
             ]
            ],
            "type": "surface"
           }
          ],
          "table": [
           {
            "cells": {
             "fill": {
              "color": "#EBF0F8"
             },
             "line": {
              "color": "white"
             }
            },
            "header": {
             "fill": {
              "color": "#C8D4E3"
             },
             "line": {
              "color": "white"
             }
            },
            "type": "table"
           }
          ]
         },
         "layout": {
          "annotationdefaults": {
           "arrowcolor": "#2a3f5f",
           "arrowhead": 0,
           "arrowwidth": 1
          },
          "autotypenumbers": "strict",
          "coloraxis": {
           "colorbar": {
            "outlinewidth": 0,
            "ticks": ""
           }
          },
          "colorscale": {
           "diverging": [
            [
             0,
             "#8e0152"
            ],
            [
             0.1,
             "#c51b7d"
            ],
            [
             0.2,
             "#de77ae"
            ],
            [
             0.3,
             "#f1b6da"
            ],
            [
             0.4,
             "#fde0ef"
            ],
            [
             0.5,
             "#f7f7f7"
            ],
            [
             0.6,
             "#e6f5d0"
            ],
            [
             0.7,
             "#b8e186"
            ],
            [
             0.8,
             "#7fbc41"
            ],
            [
             0.9,
             "#4d9221"
            ],
            [
             1,
             "#276419"
            ]
           ],
           "sequential": [
            [
             0,
             "#0d0887"
            ],
            [
             0.1111111111111111,
             "#46039f"
            ],
            [
             0.2222222222222222,
             "#7201a8"
            ],
            [
             0.3333333333333333,
             "#9c179e"
            ],
            [
             0.4444444444444444,
             "#bd3786"
            ],
            [
             0.5555555555555556,
             "#d8576b"
            ],
            [
             0.6666666666666666,
             "#ed7953"
            ],
            [
             0.7777777777777778,
             "#fb9f3a"
            ],
            [
             0.8888888888888888,
             "#fdca26"
            ],
            [
             1,
             "#f0f921"
            ]
           ],
           "sequentialminus": [
            [
             0,
             "#0d0887"
            ],
            [
             0.1111111111111111,
             "#46039f"
            ],
            [
             0.2222222222222222,
             "#7201a8"
            ],
            [
             0.3333333333333333,
             "#9c179e"
            ],
            [
             0.4444444444444444,
             "#bd3786"
            ],
            [
             0.5555555555555556,
             "#d8576b"
            ],
            [
             0.6666666666666666,
             "#ed7953"
            ],
            [
             0.7777777777777778,
             "#fb9f3a"
            ],
            [
             0.8888888888888888,
             "#fdca26"
            ],
            [
             1,
             "#f0f921"
            ]
           ]
          },
          "colorway": [
           "#636efa",
           "#EF553B",
           "#00cc96",
           "#ab63fa",
           "#FFA15A",
           "#19d3f3",
           "#FF6692",
           "#B6E880",
           "#FF97FF",
           "#FECB52"
          ],
          "font": {
           "color": "#2a3f5f"
          },
          "geo": {
           "bgcolor": "white",
           "lakecolor": "white",
           "landcolor": "#E5ECF6",
           "showlakes": true,
           "showland": true,
           "subunitcolor": "white"
          },
          "hoverlabel": {
           "align": "left"
          },
          "hovermode": "closest",
          "mapbox": {
           "style": "light"
          },
          "paper_bgcolor": "white",
          "plot_bgcolor": "#E5ECF6",
          "polar": {
           "angularaxis": {
            "gridcolor": "white",
            "linecolor": "white",
            "ticks": ""
           },
           "bgcolor": "#E5ECF6",
           "radialaxis": {
            "gridcolor": "white",
            "linecolor": "white",
            "ticks": ""
           }
          },
          "scene": {
           "xaxis": {
            "backgroundcolor": "#E5ECF6",
            "gridcolor": "white",
            "gridwidth": 2,
            "linecolor": "white",
            "showbackground": true,
            "ticks": "",
            "zerolinecolor": "white"
           },
           "yaxis": {
            "backgroundcolor": "#E5ECF6",
            "gridcolor": "white",
            "gridwidth": 2,
            "linecolor": "white",
            "showbackground": true,
            "ticks": "",
            "zerolinecolor": "white"
           },
           "zaxis": {
            "backgroundcolor": "#E5ECF6",
            "gridcolor": "white",
            "gridwidth": 2,
            "linecolor": "white",
            "showbackground": true,
            "ticks": "",
            "zerolinecolor": "white"
           }
          },
          "shapedefaults": {
           "line": {
            "color": "#2a3f5f"
           }
          },
          "ternary": {
           "aaxis": {
            "gridcolor": "white",
            "linecolor": "white",
            "ticks": ""
           },
           "baxis": {
            "gridcolor": "white",
            "linecolor": "white",
            "ticks": ""
           },
           "bgcolor": "#E5ECF6",
           "caxis": {
            "gridcolor": "white",
            "linecolor": "white",
            "ticks": ""
           }
          },
          "title": {
           "x": 0.05
          },
          "xaxis": {
           "automargin": true,
           "gridcolor": "white",
           "linecolor": "white",
           "ticks": "",
           "title": {
            "standoff": 15
           },
           "zerolinecolor": "white",
           "zerolinewidth": 2
          },
          "yaxis": {
           "automargin": true,
           "gridcolor": "white",
           "linecolor": "white",
           "ticks": "",
           "title": {
            "standoff": 15
           },
           "zerolinecolor": "white",
           "zerolinewidth": 2
          }
         }
        },
        "title": {
         "text": "WV GDP 2017 - 2022 in MILLIONS"
        },
        "xaxis": {
         "anchor": "y",
         "domain": [
          0,
          1
         ],
         "title": {
          "text": "Years"
         }
        },
        "yaxis": {
         "anchor": "x",
         "domain": [
          0,
          1
         ],
         "title": {
          "text": "millions of dollars"
         }
        }
       }
      },
      "image/png": "[encoded data removed]"
     },
     "metadata": {},
     "output_type": "display_data"
    }
   ],
   "source": [
    "wbars.show_real_nom_gdp()"
   ]
  },
  {
   "cell_type": "markdown",
   "id": "SFPL",
   "metadata": {},
   "source": [
    "\"Real\" GDP is GDP adjusted for inflation. These adjustments must account for dependencies and weightings of price changes whose rates vary across commodities. What \"basket\" of goods or services, for example, are best to give the most representative picture of inflation across the entire economy? Economies are dynamic, if not actually living, entities. This keeps the economists and statisticians tuning the contents and optimal  weights of the baskets busy!\n",
    "\n",
    " \"Current-dollar\" GDP reflects the market value of \"a basket\" of goods and services at the prices of the period in which they were produced, including the effects of inflation. In contrast, real GDP is adjusted to remove the effects of inflation, allowing for accurate comparisons of economic output over time by using prices from a fixed base year and comparable \"baskets\" of goods and services.\n",
    "\n",
    "Here, the dollar values for \"Real dollar\" are based on \"chained 2017 dollars\", meaning that figures for each year have been adjusted relative to 2017 price levels, in sequence, so that yearly interval changes reflect actual inflation increments or declines. This draws a more accurate picture overall, but you cannot exactly just add and subtract or sum the derived values in the ordinary way.\n",
    "\n",
    "As of 2022, West Virgnia finally recovered production to its 2018 level, showing the damage inflicted by the pandemmic.The impact of inflation on producers was and severe, and still persists at higher rates than West Virginia worker income raises. There are two initial suspects for why inflation persists so strongly.\n",
    "\n",
    "1. Monopolization in energy (coal, gas for WV) has kept prices higher longer.\n",
    "2. Health care dominates non-energy sectors of the WV GDP. Health care, for comparable private monopolization reasons, suffers from high inflation nationwide.\n",
    "\n",
    "Note that the wide gap between current **and** (still rising, from the pandemic recovery) real GDP in West Virginia suggests an **ability** of energy related industries -- the most profitable -- to pass on supply chain inflation in costs to consumers is due to monopoly positions of major energy firms."
   ]
  },
  {
   "cell_type": "markdown",
   "id": "BYtC",
   "metadata": {},
   "source": [
    "##  West Virginia Production and Employment  by Industry\n",
    "\n",
    "2022 is the latest year, at this writing, for which the BEA has comprehensive regional GDP reports. GDP is rising. The state economy -- from the standpoint of tradable or \"exportable\" wealth -- is still concentrated in energy and natural resources.\n",
    "\n",
    "To save chart space the industrial classification descriptions are abbreviated in the chart. A concordance can be found below."
   ]
  },
  {
   "cell_type": "markdown",
   "id": "RGSE",
   "metadata": {},
   "source": [
    "### Long/Short Industrial Classification Description Concordnce"
   ]
  },
  {
   "cell_type": "code",
   "id": "Kclp",
   "metadata": {
    "ExecuteTime": {
     "end_time": "2025-10-14T18:55:20.635407Z",
     "start_time": "2025-10-14T18:55:20.632291Z"
    }
   },
   "source": [
    "mgr = DCLs.gdp_mgr\n",
    "\n",
    "class CC:\n",
    "\n",
    "    def get_df(lcxx: LCX ):\n",
    "        index1 = lcxx.get_longs().index\n",
    "        shorts = list(lcxx.get_shorts().apply(str))\n",
    "        longs = list(lcxx.get_longs().apply(str))\n",
    "        assert(len(shorts) == len(longs)) \n",
    "        d = {\"Long Industry Desc.\": longs, \"Short Industry Desc.\": shorts}\n",
    "        df = pd.DataFrame(data= d, index=index1)\n",
    "\n",
    "        return df\n",
    "\n",
    "lcx = mgr.lcx\n",
    "con_df = CC.get_df(lcx)"
   ],
   "outputs": [],
   "execution_count": 11
  },
  {
   "cell_type": "code",
   "id": "emfo",
   "metadata": {
    "marimo": {
     "name": "*show_desc_ls_table"
    },
    "ExecuteTime": {
     "end_time": "2025-10-14T18:55:25.928364Z",
     "start_time": "2025-10-14T18:55:25.925810Z"
    }
   },
   "source": [
    "def show_desc_ls_table(dff):\n",
    "    import plotly.graph_objects as go\n",
    "\n",
    "    fig = go.Figure(data=[go.Table(\n",
    "        header=dict(\n",
    "            values=[\"Long Descriptions\", \"Short Descriptions\"],\n",
    "            fill_color='paleturquoise',\n",
    "            align='center',\n",
    "            # Set the font color for the header\n",
    "            font=dict(color='darkblue', size=14) \n",
    "        ),\n",
    "        cells=dict(\n",
    "            values=[dff['Long Industry Desc.'], dff['Short Industry Desc.']],\n",
    "            fill_color='burlywood',\n",
    "            align='center',\n",
    "            font=dict(color='black', size=12) \n",
    "        )\n",
    "    )])\n",
    "\n",
    "    fig.show()"
   ],
   "outputs": [],
   "execution_count": 12
  },
  {
   "cell_type": "code",
   "id": "Hstk",
   "metadata": {
    "ExecuteTime": {
     "end_time": "2025-10-14T18:55:34.350940Z",
     "start_time": "2025-10-14T18:55:34.337071Z"
    }
   },
   "source": [
    "show_desc_ls_table(con_df)"
   ],
   "outputs": [
    {
     "data": {
      "application/vnd.plotly.v1+json": {
       "data": [
        {
         "cells": {
          "align": "center",
          "fill": {
           "color": "burlywood"
          },
          "font": {
           "color": "black",
           "size": 12
          },
          "values": [
           [
            "Farm proprietors employment",
            "Nonfarm proprietors employment 2",
            "Farm employment",
            "Forestry, fishing, and related activities",
            "Mining, quarrying, and oil and gas extraction",
            "Utilities",
            "Construction",
            "Manufacturing",
            "Wholesale trade",
            "Retail trade",
            "Transportation and warehousing",
            "Information",
            "Finance and insurance",
            "Real estate and rental and leasing",
            "Professional, scientific, and technical services",
            "Management of companies and enterprises",
            "Administrative and support and waste management and remediation services",
            "Educational services",
            "Health care and social assistance",
            "Arts, entertainment, and recreation",
            "Accommodation and food services",
            "Other services (except government and government enterprises)",
            "Government and government enterprises",
            "Federal civilian",
            "Military",
            "State and local",
            "State government",
            "Local government",
            "Farms",
            "Agriculture, forestry, fishing and hunting"
           ],
           [
            "Farm prop",
            "Nonfarm prop.",
            "Farm employment",
            "Forestry, fishing",
            "Mining, oil, gas",
            "Utilities",
            "Construction",
            "Manufacturing",
            "Wholesale trade",
            "Retail trade",
            "Transportation",
            "Information",
            "Finance, insurance",
            "Real estate, leases",
            "STEM services",
            "Management svcs",
            "Admin/Waste svcs",
            "Educational svcs",
            "Health care svcs",
            "Arts, Recreation",
            "Hotels/Food svcs",
            "Misc. svcs",
            "Government All",
            "Federal civilian",
            "Military",
            "State and local",
            "State government",
            "Local government",
            "Farms",
            "All Agriculture"
           ]
          ]
         },
         "header": {
          "align": "center",
          "fill": {
           "color": "paleturquoise"
          },
          "font": {
           "color": "darkblue",
           "size": 14
          },
          "values": [
           "Long Descriptions",
           "Short Descriptions"
          ]
         },
         "type": "table"
        }
       ],
       "layout": {
        "template": {
         "data": {
          "histogram2dcontour": [
           {
            "type": "histogram2dcontour",
            "colorbar": {
             "outlinewidth": 0,
             "ticks": ""
            },
            "colorscale": [
             [
              0.0,
              "#0d0887"
             ],
             [
              0.1111111111111111,
              "#46039f"
             ],
             [
              0.2222222222222222,
              "#7201a8"
             ],
             [
              0.3333333333333333,
              "#9c179e"
             ],
             [
              0.4444444444444444,
              "#bd3786"
             ],
             [
              0.5555555555555556,
              "#d8576b"
             ],
             [
              0.6666666666666666,
              "#ed7953"
             ],
             [
              0.7777777777777778,
              "#fb9f3a"
             ],
             [
              0.8888888888888888,
              "#fdca26"
             ],
             [
              1.0,
              "#f0f921"
             ]
            ]
           }
          ],
          "choropleth": [
           {
            "type": "choropleth",
            "colorbar": {
             "outlinewidth": 0,
             "ticks": ""
            }
           }
          ],
          "histogram2d": [
           {
            "type": "histogram2d",
            "colorbar": {
             "outlinewidth": 0,
             "ticks": ""
            },
            "colorscale": [
             [
              0.0,
              "#0d0887"
             ],
             [
              0.1111111111111111,
              "#46039f"
             ],
             [
              0.2222222222222222,
              "#7201a8"
             ],
             [
              0.3333333333333333,
              "#9c179e"
             ],
             [
              0.4444444444444444,
              "#bd3786"
             ],
             [
              0.5555555555555556,
              "#d8576b"
             ],
             [
              0.6666666666666666,
              "#ed7953"
             ],
             [
              0.7777777777777778,
              "#fb9f3a"
             ],
             [
              0.8888888888888888,
              "#fdca26"
             ],
             [
              1.0,
              "#f0f921"
             ]
            ]
           }
          ],
          "heatmap": [
           {
            "type": "heatmap",
            "colorbar": {
             "outlinewidth": 0,
             "ticks": ""
            },
            "colorscale": [
             [
              0.0,
              "#0d0887"
             ],
             [
              0.1111111111111111,
              "#46039f"
             ],
             [
              0.2222222222222222,
              "#7201a8"
             ],
             [
              0.3333333333333333,
              "#9c179e"
             ],
             [
              0.4444444444444444,
              "#bd3786"
             ],
             [
              0.5555555555555556,
              "#d8576b"
             ],
             [
              0.6666666666666666,
              "#ed7953"
             ],
             [
              0.7777777777777778,
              "#fb9f3a"
             ],
             [
              0.8888888888888888,
              "#fdca26"
             ],
             [
              1.0,
              "#f0f921"
             ]
            ]
           }
          ],
          "contourcarpet": [
           {
            "type": "contourcarpet",
            "colorbar": {
             "outlinewidth": 0,
             "ticks": ""
            }
           }
          ],
          "contour": [
           {
            "type": "contour",
            "colorbar": {
             "outlinewidth": 0,
             "ticks": ""
            },
            "colorscale": [
             [
              0.0,
              "#0d0887"
             ],
             [
              0.1111111111111111,
              "#46039f"
             ],
             [
              0.2222222222222222,
              "#7201a8"
             ],
             [
              0.3333333333333333,
              "#9c179e"
             ],
             [
              0.4444444444444444,
              "#bd3786"
             ],
             [
              0.5555555555555556,
              "#d8576b"
             ],
             [
              0.6666666666666666,
              "#ed7953"
             ],
             [
              0.7777777777777778,
              "#fb9f3a"
             ],
             [
              0.8888888888888888,
              "#fdca26"
             ],
             [
              1.0,
              "#f0f921"
             ]
            ]
           }
          ],
          "surface": [
           {
            "type": "surface",
            "colorbar": {
             "outlinewidth": 0,
             "ticks": ""
            },
            "colorscale": [
             [
              0.0,
              "#0d0887"
             ],
             [
              0.1111111111111111,
              "#46039f"
             ],
             [
              0.2222222222222222,
              "#7201a8"
             ],
             [
              0.3333333333333333,
              "#9c179e"
             ],
             [
              0.4444444444444444,
              "#bd3786"
             ],
             [
              0.5555555555555556,
              "#d8576b"
             ],
             [
              0.6666666666666666,
              "#ed7953"
             ],
             [
              0.7777777777777778,
              "#fb9f3a"
             ],
             [
              0.8888888888888888,
              "#fdca26"
             ],
             [
              1.0,
              "#f0f921"
             ]
            ]
           }
          ],
          "mesh3d": [
           {
            "type": "mesh3d",
            "colorbar": {
             "outlinewidth": 0,
             "ticks": ""
            }
           }
          ],
          "scatter": [
           {
            "marker": {
             "line": {
              "color": "#283442"
             }
            },
            "type": "scatter"
           }
          ],
          "parcoords": [
           {
            "type": "parcoords",
            "line": {
             "colorbar": {
              "outlinewidth": 0,
              "ticks": ""
             }
            }
           }
          ],
          "scatterpolargl": [
           {
            "type": "scatterpolargl",
            "marker": {
             "colorbar": {
              "outlinewidth": 0,
              "ticks": ""
             }
            }
           }
          ],
          "bar": [
           {
            "error_x": {
             "color": "#f2f5fa"
            },
            "error_y": {
             "color": "#f2f5fa"
            },
            "marker": {
             "line": {
              "color": "rgb(17,17,17)",
              "width": 0.5
             },
             "pattern": {
              "fillmode": "overlay",
              "size": 10,
              "solidity": 0.2
             }
            },
            "type": "bar"
           }
          ],
          "scattergeo": [
           {
            "type": "scattergeo",
            "marker": {
             "colorbar": {
              "outlinewidth": 0,
              "ticks": ""
             }
            }
           }
          ],
          "scatterpolar": [
           {
            "type": "scatterpolar",
            "marker": {
             "colorbar": {
              "outlinewidth": 0,
              "ticks": ""
             }
            }
           }
          ],
          "histogram": [
           {
            "marker": {
             "pattern": {
              "fillmode": "overlay",
              "size": 10,
              "solidity": 0.2
             }
            },
            "type": "histogram"
           }
          ],
          "scattergl": [
           {
            "marker": {
             "line": {
              "color": "#283442"
             }
            },
            "type": "scattergl"
           }
          ],
          "scatter3d": [
           {
            "type": "scatter3d",
            "line": {
             "colorbar": {
              "outlinewidth": 0,
              "ticks": ""
             }
            },
            "marker": {
             "colorbar": {
              "outlinewidth": 0,
              "ticks": ""
             }
            }
           }
          ],
          "scattermap": [
           {
            "type": "scattermap",
            "marker": {
             "colorbar": {
              "outlinewidth": 0,
              "ticks": ""
             }
            }
           }
          ],
          "scattermapbox": [
           {
            "type": "scattermapbox",
            "marker": {
             "colorbar": {
              "outlinewidth": 0,
              "ticks": ""
             }
            }
           }
          ],
          "scatterternary": [
           {
            "type": "scatterternary",
            "marker": {
             "colorbar": {
              "outlinewidth": 0,
              "ticks": ""
             }
            }
           }
          ],
          "scattercarpet": [
           {
            "type": "scattercarpet",
            "marker": {
             "colorbar": {
              "outlinewidth": 0,
              "ticks": ""
             }
            }
           }
          ],
          "carpet": [
           {
            "aaxis": {
             "endlinecolor": "#A2B1C6",
             "gridcolor": "#506784",
             "linecolor": "#506784",
             "minorgridcolor": "#506784",
             "startlinecolor": "#A2B1C6"
            },
            "baxis": {
             "endlinecolor": "#A2B1C6",
             "gridcolor": "#506784",
             "linecolor": "#506784",
             "minorgridcolor": "#506784",
             "startlinecolor": "#A2B1C6"
            },
            "type": "carpet"
           }
          ],
          "table": [
           {
            "cells": {
             "fill": {
              "color": "#506784"
             },
             "line": {
              "color": "rgb(17,17,17)"
             }
            },
            "header": {
             "fill": {
              "color": "#2a3f5f"
             },
             "line": {
              "color": "rgb(17,17,17)"
             }
            },
            "type": "table"
           }
          ],
          "barpolar": [
           {
            "marker": {
             "line": {
              "color": "rgb(17,17,17)",
              "width": 0.5
             },
             "pattern": {
              "fillmode": "overlay",
              "size": 10,
              "solidity": 0.2
             }
            },
            "type": "barpolar"
           }
          ],
          "pie": [
           {
            "automargin": true,
            "type": "pie"
           }
          ]
         },
         "layout": {
          "autotypenumbers": "strict",
          "colorway": [
           "#636efa",
           "#EF553B",
           "#00cc96",
           "#ab63fa",
           "#FFA15A",
           "#19d3f3",
           "#FF6692",
           "#B6E880",
           "#FF97FF",
           "#FECB52"
          ],
          "font": {
           "color": "#f2f5fa"
          },
          "hovermode": "closest",
          "hoverlabel": {
           "align": "left"
          },
          "paper_bgcolor": "rgb(17,17,17)",
          "plot_bgcolor": "rgb(17,17,17)",
          "polar": {
           "bgcolor": "rgb(17,17,17)",
           "angularaxis": {
            "gridcolor": "#506784",
            "linecolor": "#506784",
            "ticks": ""
           },
           "radialaxis": {
            "gridcolor": "#506784",
            "linecolor": "#506784",
            "ticks": ""
           }
          },
          "ternary": {
           "bgcolor": "rgb(17,17,17)",
           "aaxis": {
            "gridcolor": "#506784",
            "linecolor": "#506784",
            "ticks": ""
           },
           "baxis": {
            "gridcolor": "#506784",
            "linecolor": "#506784",
            "ticks": ""
           },
           "caxis": {
            "gridcolor": "#506784",
            "linecolor": "#506784",
            "ticks": ""
           }
          },
          "coloraxis": {
           "colorbar": {
            "outlinewidth": 0,
            "ticks": ""
           }
          },
          "colorscale": {
           "sequential": [
            [
             0.0,
             "#0d0887"
            ],
            [
             0.1111111111111111,
             "#46039f"
            ],
            [
             0.2222222222222222,
             "#7201a8"
            ],
            [
             0.3333333333333333,
             "#9c179e"
            ],
            [
             0.4444444444444444,
             "#bd3786"
            ],
            [
             0.5555555555555556,
             "#d8576b"
            ],
            [
             0.6666666666666666,
             "#ed7953"
            ],
            [
             0.7777777777777778,
             "#fb9f3a"
            ],
            [
             0.8888888888888888,
             "#fdca26"
            ],
            [
             1.0,
             "#f0f921"
            ]
           ],
           "sequentialminus": [
            [
             0.0,
             "#0d0887"
            ],
            [
             0.1111111111111111,
             "#46039f"
            ],
            [
             0.2222222222222222,
             "#7201a8"
            ],
            [
             0.3333333333333333,
             "#9c179e"
            ],
            [
             0.4444444444444444,
             "#bd3786"
            ],
            [
             0.5555555555555556,
             "#d8576b"
            ],
            [
             0.6666666666666666,
             "#ed7953"
            ],
            [
             0.7777777777777778,
             "#fb9f3a"
            ],
            [
             0.8888888888888888,
             "#fdca26"
            ],
            [
             1.0,
             "#f0f921"
            ]
           ],
           "diverging": [
            [
             0,
             "#8e0152"
            ],
            [
             0.1,
             "#c51b7d"
            ],
            [
             0.2,
             "#de77ae"
            ],
            [
             0.3,
             "#f1b6da"
            ],
            [
             0.4,
             "#fde0ef"
            ],
            [
             0.5,
             "#f7f7f7"
            ],
            [
             0.6,
             "#e6f5d0"
            ],
            [
             0.7,
             "#b8e186"
            ],
            [
             0.8,
             "#7fbc41"
            ],
            [
             0.9,
             "#4d9221"
            ],
            [
             1,
             "#276419"
            ]
           ]
          },
          "xaxis": {
           "gridcolor": "#283442",
           "linecolor": "#506784",
           "ticks": "",
           "title": {
            "standoff": 15
           },
           "zerolinecolor": "#283442",
           "automargin": true,
           "zerolinewidth": 2
          },
          "yaxis": {
           "gridcolor": "#283442",
           "linecolor": "#506784",
           "ticks": "",
           "title": {
            "standoff": 15
           },
           "zerolinecolor": "#283442",
           "automargin": true,
           "zerolinewidth": 2
          },
          "scene": {
           "xaxis": {
            "backgroundcolor": "rgb(17,17,17)",
            "gridcolor": "#506784",
            "linecolor": "#506784",
            "showbackground": true,
            "ticks": "",
            "zerolinecolor": "#C8D4E3",
            "gridwidth": 2
           },
           "yaxis": {
            "backgroundcolor": "rgb(17,17,17)",
            "gridcolor": "#506784",
            "linecolor": "#506784",
            "showbackground": true,
            "ticks": "",
            "zerolinecolor": "#C8D4E3",
            "gridwidth": 2
           },
           "zaxis": {
            "backgroundcolor": "rgb(17,17,17)",
            "gridcolor": "#506784",
            "linecolor": "#506784",
            "showbackground": true,
            "ticks": "",
            "zerolinecolor": "#C8D4E3",
            "gridwidth": 2
           }
          },
          "shapedefaults": {
           "line": {
            "color": "#f2f5fa"
           }
          },
          "annotationdefaults": {
           "arrowcolor": "#f2f5fa",
           "arrowhead": 0,
           "arrowwidth": 1
          },
          "geo": {
           "bgcolor": "rgb(17,17,17)",
           "landcolor": "rgb(17,17,17)",
           "subunitcolor": "#506784",
           "showland": true,
           "showlakes": true,
           "lakecolor": "rgb(17,17,17)"
          },
          "title": {
           "x": 0.05
          },
          "updatemenudefaults": {
           "bgcolor": "#506784",
           "borderwidth": 0
          },
          "sliderdefaults": {
           "bgcolor": "#C8D4E3",
           "borderwidth": 1,
           "bordercolor": "rgb(17,17,17)",
           "tickwidth": 0
          },
          "mapbox": {
           "style": "dark"
          }
         }
        }
       },
       "config": {
        "plotlyServerURL": "https://plot.ly"
       }
      }
     },
     "metadata": {},
     "output_type": "display_data"
    }
   ],
   "execution_count": 13
  },
  {
   "cell_type": "markdown",
   "id": "nWHF",
   "metadata": {},
   "source": [
    "##  WV Real and Current Dollar GDP for 2022 by Industrial Sector\n",
    "\n",
    "There are some immediate observations from the West Virginia GDP (Gross Domestic Product) graphs.\n",
    "\n",
    "\n",
    "*  These charts are rank economic sectors by contribution to GDP.\n",
    "*  Government, mining, health care service, real estate, manufacturing, and retail make the greatest contributions to West Virginia GDP.\n",
    "*  However, of these, only mining and manufacturing contribute enough, or are profitable enough, to be subject to increased taxation. This is due to the fact they are *exporting* (out of state), and thus the tax on them is not a \"zero sum gain\" tax where the same sum of money is just being redirected.\n",
    "*  Government, obviously, cannot be taxed.\n",
    "*  Private health care services are subject to taxation, but they also benefit from substantial subsidies. Taxing private health care further makes little sense from a revenue standpoint.\n",
    "*  Retail trade is already subject to significant tax, which, is typically paid by working class consumers, who, in West Virginia, cannot afford further taxation without feeling aggrieved.\n",
    "*  Real estate is also already subject to significant taxation. It is worth noting that in real estate \"surpluses\" generally refer to *economic rents*, the excess income a property generates beyond the owner's costs and typical market returns. In GDP tables the reported high real estate surpluses may be due to [\"imputed rent\"](https://en.wikipedia.org/wiki/Imputed_rent). \"Imputed rent\" is a economic concept that \"measures the benefit homeowners receive from living in their own property rent-free\" .\n",
    "\n",
    "Recent deals announced for massive data centers in parts of the state could change the size of the \"Utilities\" sector significantly.\n",
    "\n",
    "In richer states investments in education, including strategic economic development around university centers, were major factors in growth, innovation, and attracting skilled and unskilled labor.  These centers can become engines of growth, but also require careful and committed planning and combined public and private investment.\n",
    "\n",
    "Conclusions: There is a very narrow range of options available to West Virginia to lift up its people. For example, when looking at the raw numbers, consider that simply eliminating the wage difference between West Virginia teachers and teachers in bordering counties of Virginia, Maryland and Pennsylvania would cost half a billion dollars year in WV."
   ]
  },
  {
   "cell_type": "code",
   "id": "iLit",
   "metadata": {
    "ExecuteTime": {
     "end_time": "2025-10-14T18:55:46.479452Z",
     "start_time": "2025-10-14T18:55:46.406453Z"
    }
   },
   "source": [
    "wbars.show_real_2022_gdp()"
   ],
   "outputs": [
    {
     "data": {
      "application/vnd.plotly.v1+json": {
       "data": [
        {
         "hovertemplate": "Industry Description=%{x}<br>WV GDP (millions of 2022 'Real' dollars)=%{y}<extra></extra>",
         "legendgroup": "",
         "marker": {
          "color": "#636efa",
          "pattern": {
           "shape": ""
          }
         },
         "name": "",
         "orientation": "v",
         "showlegend": false,
         "textposition": "auto",
         "texttemplate": "%{y:.2s}",
         "x": [
          "Forestry, fishing",
          "Farms",
          "All Agriculture",
          "Military",
          "Educational svcs",
          "Arts, Recreation",
          "Management svcs",
          "Misc. svcs",
          "Information",
          "Utilities",
          "Transportation",
          "Admin/Waste svcs",
          "Hotels/Food svcs",
          "Construction",
          "Finance, insurance",
          "Wholesale trade",
          "STEM services",
          "Federal civilian",
          "Retail trade",
          "Manufacturing",
          "Real estate, leases",
          "Health care svcs",
          "State and local",
          "Mining, oil, gas",
          "Government All"
         ],
         "xaxis": "x",
         "y": {
          "dtype": "f8",
          "bdata": "ZmZmZmamXUCamZmZmVlhQDMzMzMzo29AzczMzMyUdkBmZmZmZlZ4QGZmZmZmnnxAmpmZmZmNj0CamZmZmc2XQM3MzMzMNpxAZmZmZmaankAzMzMzM3+fQJqZmZmZ/aFAAAAAAAAOokAzMzMzM8ekQGZmZmZmdaVAMzMzMzOzqEAAAAAAAEGqQDMzMzMzQKtAZmZmZmaas0BmZmZm5sK7QM3MzMzM9b9AMzMzM/PMwEAzMzMzcx7BQGZmZmZm18FAZmZmZiajyEA="
         },
         "yaxis": "y",
         "type": "bar"
        }
       ],
       "layout": {
        "template": {
         "data": {
          "histogram2dcontour": [
           {
            "type": "histogram2dcontour",
            "colorbar": {
             "outlinewidth": 0,
             "ticks": ""
            },
            "colorscale": [
             [
              0.0,
              "#0d0887"
             ],
             [
              0.1111111111111111,
              "#46039f"
             ],
             [
              0.2222222222222222,
              "#7201a8"
             ],
             [
              0.3333333333333333,
              "#9c179e"
             ],
             [
              0.4444444444444444,
              "#bd3786"
             ],
             [
              0.5555555555555556,
              "#d8576b"
             ],
             [
              0.6666666666666666,
              "#ed7953"
             ],
             [
              0.7777777777777778,
              "#fb9f3a"
             ],
             [
              0.8888888888888888,
              "#fdca26"
             ],
             [
              1.0,
              "#f0f921"
             ]
            ]
           }
          ],
          "choropleth": [
           {
            "type": "choropleth",
            "colorbar": {
             "outlinewidth": 0,
             "ticks": ""
            }
           }
          ],
          "histogram2d": [
           {
            "type": "histogram2d",
            "colorbar": {
             "outlinewidth": 0,
             "ticks": ""
            },
            "colorscale": [
             [
              0.0,
              "#0d0887"
             ],
             [
              0.1111111111111111,
              "#46039f"
             ],
             [
              0.2222222222222222,
              "#7201a8"
             ],
             [
              0.3333333333333333,
              "#9c179e"
             ],
             [
              0.4444444444444444,
              "#bd3786"
             ],
             [
              0.5555555555555556,
              "#d8576b"
             ],
             [
              0.6666666666666666,
              "#ed7953"
             ],
             [
              0.7777777777777778,
              "#fb9f3a"
             ],
             [
              0.8888888888888888,
              "#fdca26"
             ],
             [
              1.0,
              "#f0f921"
             ]
            ]
           }
          ],
          "heatmap": [
           {
            "type": "heatmap",
            "colorbar": {
             "outlinewidth": 0,
             "ticks": ""
            },
            "colorscale": [
             [
              0.0,
              "#0d0887"
             ],
             [
              0.1111111111111111,
              "#46039f"
             ],
             [
              0.2222222222222222,
              "#7201a8"
             ],
             [
              0.3333333333333333,
              "#9c179e"
             ],
             [
              0.4444444444444444,
              "#bd3786"
             ],
             [
              0.5555555555555556,
              "#d8576b"
             ],
             [
              0.6666666666666666,
              "#ed7953"
             ],
             [
              0.7777777777777778,
              "#fb9f3a"
             ],
             [
              0.8888888888888888,
              "#fdca26"
             ],
             [
              1.0,
              "#f0f921"
             ]
            ]
           }
          ],
          "contourcarpet": [
           {
            "type": "contourcarpet",
            "colorbar": {
             "outlinewidth": 0,
             "ticks": ""
            }
           }
          ],
          "contour": [
           {
            "type": "contour",
            "colorbar": {
             "outlinewidth": 0,
             "ticks": ""
            },
            "colorscale": [
             [
              0.0,
              "#0d0887"
             ],
             [
              0.1111111111111111,
              "#46039f"
             ],
             [
              0.2222222222222222,
              "#7201a8"
             ],
             [
              0.3333333333333333,
              "#9c179e"
             ],
             [
              0.4444444444444444,
              "#bd3786"
             ],
             [
              0.5555555555555556,
              "#d8576b"
             ],
             [
              0.6666666666666666,
              "#ed7953"
             ],
             [
              0.7777777777777778,
              "#fb9f3a"
             ],
             [
              0.8888888888888888,
              "#fdca26"
             ],
             [
              1.0,
              "#f0f921"
             ]
            ]
           }
          ],
          "surface": [
           {
            "type": "surface",
            "colorbar": {
             "outlinewidth": 0,
             "ticks": ""
            },
            "colorscale": [
             [
              0.0,
              "#0d0887"
             ],
             [
              0.1111111111111111,
              "#46039f"
             ],
             [
              0.2222222222222222,
              "#7201a8"
             ],
             [
              0.3333333333333333,
              "#9c179e"
             ],
             [
              0.4444444444444444,
              "#bd3786"
             ],
             [
              0.5555555555555556,
              "#d8576b"
             ],
             [
              0.6666666666666666,
              "#ed7953"
             ],
             [
              0.7777777777777778,
              "#fb9f3a"
             ],
             [
              0.8888888888888888,
              "#fdca26"
             ],
             [
              1.0,
              "#f0f921"
             ]
            ]
           }
          ],
          "mesh3d": [
           {
            "type": "mesh3d",
            "colorbar": {
             "outlinewidth": 0,
             "ticks": ""
            }
           }
          ],
          "scatter": [
           {
            "marker": {
             "line": {
              "color": "#283442"
             }
            },
            "type": "scatter"
           }
          ],
          "parcoords": [
           {
            "type": "parcoords",
            "line": {
             "colorbar": {
              "outlinewidth": 0,
              "ticks": ""
             }
            }
           }
          ],
          "scatterpolargl": [
           {
            "type": "scatterpolargl",
            "marker": {
             "colorbar": {
              "outlinewidth": 0,
              "ticks": ""
             }
            }
           }
          ],
          "bar": [
           {
            "error_x": {
             "color": "#f2f5fa"
            },
            "error_y": {
             "color": "#f2f5fa"
            },
            "marker": {
             "line": {
              "color": "rgb(17,17,17)",
              "width": 0.5
             },
             "pattern": {
              "fillmode": "overlay",
              "size": 10,
              "solidity": 0.2
             }
            },
            "type": "bar"
           }
          ],
          "scattergeo": [
           {
            "type": "scattergeo",
            "marker": {
             "colorbar": {
              "outlinewidth": 0,
              "ticks": ""
             }
            }
           }
          ],
          "scatterpolar": [
           {
            "type": "scatterpolar",
            "marker": {
             "colorbar": {
              "outlinewidth": 0,
              "ticks": ""
             }
            }
           }
          ],
          "histogram": [
           {
            "marker": {
             "pattern": {
              "fillmode": "overlay",
              "size": 10,
              "solidity": 0.2
             }
            },
            "type": "histogram"
           }
          ],
          "scattergl": [
           {
            "marker": {
             "line": {
              "color": "#283442"
             }
            },
            "type": "scattergl"
           }
          ],
          "scatter3d": [
           {
            "type": "scatter3d",
            "line": {
             "colorbar": {
              "outlinewidth": 0,
              "ticks": ""
             }
            },
            "marker": {
             "colorbar": {
              "outlinewidth": 0,
              "ticks": ""
             }
            }
           }
          ],
          "scattermap": [
           {
            "type": "scattermap",
            "marker": {
             "colorbar": {
              "outlinewidth": 0,
              "ticks": ""
             }
            }
           }
          ],
          "scattermapbox": [
           {
            "type": "scattermapbox",
            "marker": {
             "colorbar": {
              "outlinewidth": 0,
              "ticks": ""
             }
            }
           }
          ],
          "scatterternary": [
           {
            "type": "scatterternary",
            "marker": {
             "colorbar": {
              "outlinewidth": 0,
              "ticks": ""
             }
            }
           }
          ],
          "scattercarpet": [
           {
            "type": "scattercarpet",
            "marker": {
             "colorbar": {
              "outlinewidth": 0,
              "ticks": ""
             }
            }
           }
          ],
          "carpet": [
           {
            "aaxis": {
             "endlinecolor": "#A2B1C6",
             "gridcolor": "#506784",
             "linecolor": "#506784",
             "minorgridcolor": "#506784",
             "startlinecolor": "#A2B1C6"
            },
            "baxis": {
             "endlinecolor": "#A2B1C6",
             "gridcolor": "#506784",
             "linecolor": "#506784",
             "minorgridcolor": "#506784",
             "startlinecolor": "#A2B1C6"
            },
            "type": "carpet"
           }
          ],
          "table": [
           {
            "cells": {
             "fill": {
              "color": "#506784"
             },
             "line": {
              "color": "rgb(17,17,17)"
             }
            },
            "header": {
             "fill": {
              "color": "#2a3f5f"
             },
             "line": {
              "color": "rgb(17,17,17)"
             }
            },
            "type": "table"
           }
          ],
          "barpolar": [
           {
            "marker": {
             "line": {
              "color": "rgb(17,17,17)",
              "width": 0.5
             },
             "pattern": {
              "fillmode": "overlay",
              "size": 10,
              "solidity": 0.2
             }
            },
            "type": "barpolar"
           }
          ],
          "pie": [
           {
            "automargin": true,
            "type": "pie"
           }
          ]
         },
         "layout": {
          "autotypenumbers": "strict",
          "colorway": [
           "#636efa",
           "#EF553B",
           "#00cc96",
           "#ab63fa",
           "#FFA15A",
           "#19d3f3",
           "#FF6692",
           "#B6E880",
           "#FF97FF",
           "#FECB52"
          ],
          "font": {
           "color": "#f2f5fa"
          },
          "hovermode": "closest",
          "hoverlabel": {
           "align": "left"
          },
          "paper_bgcolor": "rgb(17,17,17)",
          "plot_bgcolor": "rgb(17,17,17)",
          "polar": {
           "bgcolor": "rgb(17,17,17)",
           "angularaxis": {
            "gridcolor": "#506784",
            "linecolor": "#506784",
            "ticks": ""
           },
           "radialaxis": {
            "gridcolor": "#506784",
            "linecolor": "#506784",
            "ticks": ""
           }
          },
          "ternary": {
           "bgcolor": "rgb(17,17,17)",
           "aaxis": {
            "gridcolor": "#506784",
            "linecolor": "#506784",
            "ticks": ""
           },
           "baxis": {
            "gridcolor": "#506784",
            "linecolor": "#506784",
            "ticks": ""
           },
           "caxis": {
            "gridcolor": "#506784",
            "linecolor": "#506784",
            "ticks": ""
           }
          },
          "coloraxis": {
           "colorbar": {
            "outlinewidth": 0,
            "ticks": ""
           }
          },
          "colorscale": {
           "sequential": [
            [
             0.0,
             "#0d0887"
            ],
            [
             0.1111111111111111,
             "#46039f"
            ],
            [
             0.2222222222222222,
             "#7201a8"
            ],
            [
             0.3333333333333333,
             "#9c179e"
            ],
            [
             0.4444444444444444,
             "#bd3786"
            ],
            [
             0.5555555555555556,
             "#d8576b"
            ],
            [
             0.6666666666666666,
             "#ed7953"
            ],
            [
             0.7777777777777778,
             "#fb9f3a"
            ],
            [
             0.8888888888888888,
             "#fdca26"
            ],
            [
             1.0,
             "#f0f921"
            ]
           ],
           "sequentialminus": [
            [
             0.0,
             "#0d0887"
            ],
            [
             0.1111111111111111,
             "#46039f"
            ],
            [
             0.2222222222222222,
             "#7201a8"
            ],
            [
             0.3333333333333333,
             "#9c179e"
            ],
            [
             0.4444444444444444,
             "#bd3786"
            ],
            [
             0.5555555555555556,
             "#d8576b"
            ],
            [
             0.6666666666666666,
             "#ed7953"
            ],
            [
             0.7777777777777778,
             "#fb9f3a"
            ],
            [
             0.8888888888888888,
             "#fdca26"
            ],
            [
             1.0,
             "#f0f921"
            ]
           ],
           "diverging": [
            [
             0,
             "#8e0152"
            ],
            [
             0.1,
             "#c51b7d"
            ],
            [
             0.2,
             "#de77ae"
            ],
            [
             0.3,
             "#f1b6da"
            ],
            [
             0.4,
             "#fde0ef"
            ],
            [
             0.5,
             "#f7f7f7"
            ],
            [
             0.6,
             "#e6f5d0"
            ],
            [
             0.7,
             "#b8e186"
            ],
            [
             0.8,
             "#7fbc41"
            ],
            [
             0.9,
             "#4d9221"
            ],
            [
             1,
             "#276419"
            ]
           ]
          },
          "xaxis": {
           "gridcolor": "#283442",
           "linecolor": "#506784",
           "ticks": "",
           "title": {
            "standoff": 15
           },
           "zerolinecolor": "#283442",
           "automargin": true,
           "zerolinewidth": 2
          },
          "yaxis": {
           "gridcolor": "#283442",
           "linecolor": "#506784",
           "ticks": "",
           "title": {
            "standoff": 15
           },
           "zerolinecolor": "#283442",
           "automargin": true,
           "zerolinewidth": 2
          },
          "scene": {
           "xaxis": {
            "backgroundcolor": "rgb(17,17,17)",
            "gridcolor": "#506784",
            "linecolor": "#506784",
            "showbackground": true,
            "ticks": "",
            "zerolinecolor": "#C8D4E3",
            "gridwidth": 2
           },
           "yaxis": {
            "backgroundcolor": "rgb(17,17,17)",
            "gridcolor": "#506784",
            "linecolor": "#506784",
            "showbackground": true,
            "ticks": "",
            "zerolinecolor": "#C8D4E3",
            "gridwidth": 2
           },
           "zaxis": {
            "backgroundcolor": "rgb(17,17,17)",
            "gridcolor": "#506784",
            "linecolor": "#506784",
            "showbackground": true,
            "ticks": "",
            "zerolinecolor": "#C8D4E3",
            "gridwidth": 2
           }
          },
          "shapedefaults": {
           "line": {
            "color": "#f2f5fa"
           }
          },
          "annotationdefaults": {
           "arrowcolor": "#f2f5fa",
           "arrowhead": 0,
           "arrowwidth": 1
          },
          "geo": {
           "bgcolor": "rgb(17,17,17)",
           "landcolor": "rgb(17,17,17)",
           "subunitcolor": "#506784",
           "showland": true,
           "showlakes": true,
           "lakecolor": "rgb(17,17,17)"
          },
          "title": {
           "x": 0.05
          },
          "updatemenudefaults": {
           "bgcolor": "#506784",
           "borderwidth": 0
          },
          "sliderdefaults": {
           "bgcolor": "#C8D4E3",
           "borderwidth": 1,
           "bordercolor": "rgb(17,17,17)",
           "tickwidth": 0
          },
          "mapbox": {
           "style": "dark"
          }
         }
        },
        "xaxis": {
         "anchor": "y",
         "domain": [
          0.0,
          1.0
         ],
         "title": {
          "text": "Industry Description"
         },
         "tickangle": -45
        },
        "yaxis": {
         "anchor": "x",
         "domain": [
          0.0,
          1.0
         ],
         "title": {
          "text": "WV GDP (millions of 2022 'Real' dollars)"
         }
        },
        "legend": {
         "tracegroupgap": 0
        },
        "title": {
         "text": "WV 2022 'REAL' GDP by Industry, including Government"
        },
        "barmode": "relative",
        "height": 600
       },
       "config": {
        "plotlyServerURL": "https://plot.ly"
       }
      }
     },
     "metadata": {},
     "output_type": "display_data"
    }
   ],
   "execution_count": 14
  },
  {
   "cell_type": "markdown",
   "id": "ZHCJ",
   "metadata": {},
   "source": [
    "##  Current Dollar GDP by Industrial Sector"
   ]
  },
  {
   "cell_type": "code",
   "execution_count": null,
   "id": "ROlb",
   "metadata": {},
   "outputs": [],
   "source": [
    "wbars.show_curr_2022_gdp()"
   ]
  },
  {
   "cell_type": "markdown",
   "id": "qnkX",
   "metadata": {},
   "source": [
    "##  West Virginia Employment 2022 by Industry\n",
    "\n",
    "Where do West Virginians work? Who employs them?\n",
    "\n",
    "This chart ranks the economic sectors by number of employees."
   ]
  },
  {
   "cell_type": "code",
   "id": "TqIu",
   "metadata": {
    "ExecuteTime": {
     "end_time": "2025-10-14T18:47:05.320836Z",
     "start_time": "2025-10-14T18:47:05.068004Z"
    }
   },
   "source": [
    "opps.show_employment_2022_by_industry(taxable=False)"
   ],
   "outputs": [
    {
     "ename": "NameError",
     "evalue": "name 'opps' is not defined",
     "output_type": "error",
     "traceback": [
      "\u001B[31m---------------------------------------------------------------------------\u001B[39m",
      "\u001B[31mNameError\u001B[39m                                 Traceback (most recent call last)",
      "\u001B[36mCell\u001B[39m\u001B[36m \u001B[39m\u001B[32mIn[1]\u001B[39m\u001B[32m, line 1\u001B[39m\n\u001B[32m----> \u001B[39m\u001B[32m1\u001B[39m \u001B[43mopps\u001B[49m.show_employment_2022_by_industry(taxable=\u001B[38;5;28;01mFalse\u001B[39;00m)\n",
      "\u001B[31mNameError\u001B[39m: name 'opps' is not defined"
     ]
    }
   ],
   "execution_count": 1
  },
  {
   "cell_type": "markdown",
   "id": "Vxnm",
   "metadata": {},
   "source": [
    "This bar chart tells a lot of stories!\n",
    "\n",
    "* Perhaps the most surprising one is the tall bar on the right, labelled \"Government\". There are 19 distinct industrial classifications among the 23 listed on the x axis. Note that \"Government\" *includes* \"State\" and \"Federal civilian\" and \"Military\" for local interest purposes. Still -- the relatively large size of public sector employment alongside poverty and low overall GDP asks big questions about the allocation of resources. West Virginia receives more federal subsidies and investment than it pays in federal taxes. Where do, or can, the additional funds required to raise up education and erase poverty come from?\n",
    "\n",
    "* Non-farm proprietorships -- anyone with a small business license or partnership. It is not unusual in rural areas for this number to be high. Note that this does not appear in the GDP chart, since the proprietorships span across many economic sectors. Nonetheless, it is evidence that the \"small business mentality\" can be sustained even with near povery incomes.\n",
    "\n",
    "* Also eye-catching is the size of the health care workforce. There is both a demand, and supply, story there in West Virginia history, especially the struggles of the United Mine Workers of America, for the \"[best health coverage in the world](https://umwa.org/about/leadership/cecil-e-roberts/)\" in the nation's most dangerous occuations.\n",
    "\n",
    "* There is also the story of failures to economically diversify -- to do a \"Norway\", i.e. \"more socialism\", with the wealth of natural resources, or something comparable.\n",
    "\n",
    "* Further it is useful to take note of the division of labor occupations across service and productive sectors. A principle feature of social class is one's relationship to work. Distictions between service and productive labor can be overdone. After all, wages, benefits, safety, fair treatment are common to labor organizing regardless. However, there ARE important differences, as anyone familiar with union organizing knows. There are also important differences in the accumulation of wealth.\n",
    "\n",
    "* Empowering service workers with more economic influence over their working lives may be the single biggest organizational challenge for US labor. In the chart above, Forestry, Utilties, Mining, Construction, and Manufacturing are productive, approx 150,000 workers.  Some would include transport in the production category. The rest are service oriented, over 600,000.  Current technological trends argue that automation and AI will continue to displace existing occupations in both production and services.\n",
    "\n",
    "\n",
    "\n",
    "The compensation chart tells that story."
   ]
  },
  {
   "cell_type": "markdown",
   "id": "DnEU",
   "metadata": {},
   "source": [
    "##  West Virginia Compensation 2022"
   ]
  },
  {
   "cell_type": "code",
   "execution_count": null,
   "id": "ulZA",
   "metadata": {},
   "outputs": [],
   "source": [
    "opps.show_compensation_2022_by_industry(taxable=False)"
   ]
  },
  {
   "cell_type": "markdown",
   "id": "ecfG",
   "metadata": {},
   "source": [
    "The compensation values in this chart are gross numbers, embracing hourly, salary and managerial occupations, full AND part-time. You can divide these values by the employment numbers and get a *very rough* idea of average compensation by industry, although the distictions by class, hours and role are lost in the BEA data on employment. Observe how Utilities, Mining, Construction and Manufacturing all moved up in scale from the Employment chart. This reflects the higher compensation per worker in these sectors."
   ]
  },
  {
   "cell_type": "markdown",
   "id": "Pvdt",
   "metadata": {},
   "source": [
    "##  Operational Surplus"
   ]
  },
  {
   "cell_type": "markdown",
   "id": "ZBYS",
   "metadata": {},
   "source": [
    "The a virtue of BEA data is that it gives both Operational Surplus, and wage/salary compensation values for comparison by economic sector, state, or regions, or nationally.\n",
    "\n",
    "Operational surplus is not only profits. It includes all income *other than* compensation (and after other input costs of materials, supplies contracted services, etc., are covered). Profits, interest/debts, *and* rents are included in \"operational surplus\". The surpluses in tradable goods\n",
    "in mining, manufacturing and real estate (a special case, as noted above) blowout everything else.\n",
    "\n",
    "When looking at surplus relative to compensation, the level of monopolization (or 'oligarchy') permits passing on inflation costs to consumers. For example when the pandemic and the Ukraiine war slowed down supply chains in energy, the giant oil firms profits did not slip."
   ]
  },
  {
   "cell_type": "code",
   "execution_count": null,
   "id": "aLJB",
   "metadata": {},
   "outputs": [],
   "source": [
    "opps.show_opp_surplus_2022()"
   ]
  },
  {
   "cell_type": "markdown",
   "id": "AjVT",
   "metadata": {},
   "source": [
    "##  Operational Surplus and Compensation by Industry\n",
    "\n",
    "This chart is not ranked\n",
    "\n",
    "The chart below shows who is making money by industry.\n",
    "\n",
    "\n",
    "    Several key trends characterize the relationship between US manufacturing operational surplus and compensation:\n",
    "\n",
    "* Declining Labor Share: The portion of manufacturing output flowing to workers as compensation (the labor share) has been decreasing over time.\n",
    "* Growing Profit Share: Conversely, corporate profits in manufacturing (a component of operating surplus) have grown substantially faster than employee compensation in recent decades.\n",
    "* Eroding Compensation Premium: While manufacturing workers generally earn more in hourly compensation (wages and benefits) compared to similar workers in other private sector roles, this premium has shrunk since the 1980s.\n",
    "\n",
    "*Reasons for these trends include:*\n",
    "\n",
    "* Lower Manufacturing Wages: Workers directly employed by manufacturing firms are receiving lower hourly wages compared to previous decades.\n",
    "* Increased Use of Staffing Agencies: A growing portion of manufacturing jobs are filled by workers from staffing and temporary help agencies, who tend to be paid less than directly employed workers.\n",
    "* Declining Unionization and Bargaining Power: Erosion of labor's bargaining power due to political and legal repression."
   ]
  },
  {
   "cell_type": "code",
   "execution_count": null,
   "id": "pHFh",
   "metadata": {},
   "outputs": [],
   "source": [
    "opps.show_comp_surp_bars()"
   ]
  },
  {
   "cell_type": "markdown",
   "id": "NCOB",
   "metadata": {},
   "source": [
    "##  TAXATION - SUBSIDIES\n",
    "\n",
    "The combination of state taxation and subsidies effecting each industrial sector reflects the state's \"industrial policy\" -- what it is encouraging or discouraging with incentives or disincentives. Retail and Mining stand out as tax-paying."
   ]
  },
  {
   "cell_type": "code",
   "execution_count": null,
   "id": "aqbW",
   "metadata": {},
   "outputs": [],
   "source": "tsbars.show_taxes_bars()"
  },
  {
   "cell_type": "code",
   "execution_count": null,
   "id": "TRpd",
   "metadata": {},
   "outputs": [],
   "source": []
  },
  {
   "cell_type": "markdown",
   "id": "TXez",
   "metadata": {},
   "source": [
    "### SUBSIDIES\n",
    "\n",
    "The heavy subsides to health care and real estate diminish their roles in accounting for their role in overall GDP for the state."
   ]
  },
  {
   "cell_type": "code",
   "execution_count": null,
   "id": "dNNg",
   "metadata": {},
   "outputs": [],
   "source": [
    "tsbars.show_subs_bars()"
   ]
  },
  {
   "cell_type": "markdown",
   "id": "yCnT",
   "metadata": {},
   "source": [
    "## Taxes Minus Subsidies by Industry\n",
    "\n",
    "Separating out the Subsidized from the Taxable, yields the picture of who is really shouldering the industry tax burdens in the state. Mining, and the consumer (Retail, sales)."
   ]
  },
  {
   "cell_type": "code",
   "execution_count": null,
   "id": "wlCL",
   "metadata": {},
   "outputs": [],
   "source": [
    "tsbars.show_tax_minus_subs_bars()"
   ]
  },
  {
   "cell_type": "markdown",
   "id": "kqZH",
   "metadata": {},
   "source": [
    "There are many unanswered questions that arise from this data. However, the energy concentrated structure of"
   ]
  }
 ],
 "metadata": {
  "kernelspec": {
   "display_name": "Python 3 (ipykernel)",
   "language": "python",
   "name": "python3"
  },
  "language_info": {
   "codemirror_mode": {
    "name": "ipython",
    "version": 3
   },
   "file_extension": ".py",
   "mimetype": "text/x-python",
   "name": "python",
   "nbconvert_exporter": "python",
   "pygments_lexer": "ipython3",
   "version": "3.13.3"
  }
 },
 "nbformat": 4,
 "nbformat_minor": 5
}
